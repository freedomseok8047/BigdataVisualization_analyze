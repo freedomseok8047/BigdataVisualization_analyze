{
 "cells": [
  {
   "cell_type": "code",
   "execution_count": null,
   "metadata": {},
   "outputs": [],
   "source": [
    "#### 한글 형태소 분석 ,시각화, 워드 클라우드 등.\n",
    "#### 형태소 분석, 품사 태깅.\n",
    "#### 데이터 : 샘플 데이터 , 페이스북 전자 신문에서 크롤링 한 임시 데이터로 대체\n",
    "#### 설치 가 조금 복잡함.\n",
    "#### 1) jdk 17 이상 2) JPype(자바, 파이썬 연결하는 도구) 3) konlpy 패키지 설치.\n",
    "#### 주의사항, JPype 버전 1.4, 파이썬 버전 3.10.7 다운그레이드\n",
    "#### 시스템 환경 변수 , ex) JAVA_HOME : 경로 추가 하기. jdk 17"
   ]
  },
  {
   "cell_type": "markdown",
   "metadata": {},
   "source": []
  }
 ],
 "metadata": {
  "language_info": {
   "name": "python"
  }
 },
 "nbformat": 4,
 "nbformat_minor": 2
}
